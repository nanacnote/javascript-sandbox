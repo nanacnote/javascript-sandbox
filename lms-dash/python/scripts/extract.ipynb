{
 "cells": [
  {
   "cell_type": "code",
   "execution_count": 170,
   "metadata": {},
   "outputs": [],
   "source": [
    "# pull in dependencies\n",
    "import os\n",
    "import json\n",
    "import random\n",
    "\n",
    "input_buffer = None\n",
    "output_buffer = dict()\n"
   ]
  },
  {
   "cell_type": "code",
   "execution_count": 171,
   "metadata": {},
   "outputs": [],
   "source": [
    "# read extended data into buffer\n",
    "with open('../data/flat/extended.json', 'r') as file:\n",
    "    input_buffer = json.load(file)"
   ]
  },
  {
   "cell_type": "code",
   "execution_count": null,
   "metadata": {},
   "outputs": [],
   "source": [
    "# populate output buffer\n",
    "output_buffer[\"nameOfPupils\"] = input_buffer[\"pupils\"].keys()\n",
    "output_buffer[\"noOfPupils\"] = len(input_buffer[\"pupils\"])\n",
    "output_buffer[\"noOfSessions\"] = len(input_buffer[\"assessment_data\"][\"sections\"])\n",
    "output_buffer[\"sectionPieChartLabels\"] = [section[\"section_type\"].replace(\"_\", \" \").capitalize() for section in input_buffer[\"assessment_data\"][\"sections\"]]\n",
    "output_buffer[\"pupilsAveragePerformanceAcrossSections\"] = [random.randint(25, 100) for _ in output_buffer[\"nameOfPupils\"]]\n",
    "output_buffer[\"pupilsCumulativePerformance\"] = [dict(x=pupil, y = sorted([random.randint(20, 100) for _ in range(5)])) for pupil in output_buffer[\"nameOfPupils\"]]\n",
    "\n",
    "output_buffer[\"pupilsDetailsAsTableEntries\"] = [dict(\n",
    "    key = name.replace(\" \", \"_\"),\n",
    "    name = name.replace(\"_\", \" \").capitalize(),\n",
    "    track = random.choice((\"School\", \"Home\")),\n",
    "    playedGames = random.randint(4, 11),\n",
    "    favouriteGame = random.choice(list(map(lambda x: x[\"minigame_id\"], input_buffer[\"pupils\"][\"sarah_jane\"][\"learning_data\"][\"lesson_history_log\"]))),\n",
    "    bestGameScore =  random.randint(60, 99),\n",
    "    readBooks =  random.randint(0, 3),\n",
    "    favouriteBook = \"--\",\n",
    "    lastSeen = \"n/a\",\n",
    ") for name in output_buffer[\"nameOfPupils\"]]\n",
    "\n",
    "\n",
    "output_buffer"
   ]
  }
 ],
 "metadata": {
  "kernelspec": {
   "display_name": "python-6nDLZIqT",
   "language": "python",
   "name": "python3"
  },
  "language_info": {
   "codemirror_mode": {
    "name": "ipython",
    "version": 3
   },
   "file_extension": ".py",
   "mimetype": "text/x-python",
   "name": "python",
   "nbconvert_exporter": "python",
   "pygments_lexer": "ipython3",
   "version": "3.9.15"
  },
  "orig_nbformat": 4,
  "vscode": {
   "interpreter": {
    "hash": "cfc9f9f4b8bae7ff6b6e606b906c2e008a8fce0aac12728f5b1ad727cd966224"
   }
  }
 },
 "nbformat": 4,
 "nbformat_minor": 2
}
