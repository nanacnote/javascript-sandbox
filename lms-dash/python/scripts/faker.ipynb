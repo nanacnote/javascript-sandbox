{
 "cells": [
  {
   "cell_type": "code",
   "execution_count": 23,
   "metadata": {},
   "outputs": [],
   "source": [
    "# pull in dependencies\n",
    "import json\n",
    "from jsf import JSF\n",
    "from faker import Faker\n",
    "\n",
    "buffer = None\n",
    "fake = Faker()"
   ]
  },
  {
   "cell_type": "code",
   "execution_count": 24,
   "metadata": {},
   "outputs": [],
   "source": [
    "# read original flattened data into buffer\n",
    "with open('../data/flat/original.json', 'r') as file:\n",
    "    buffer = json.load(file)"
   ]
  },
  {
   "cell_type": "code",
   "execution_count": 25,
   "metadata": {},
   "outputs": [],
   "source": [
    "# generate dummy data for 50 pupils\n",
    "tmp = dict()\n",
    "for i in range(50):\n",
    "    pupil_name = fake.name().replace(\" \", \"_\").lower()\n",
    "    fake_json = JSF.from_json(\"../data/schema/pupil.json\").generate()\n",
    "    tmp[pupil_name] = fake_json\n",
    "buffer[\"pupils\"] = {**buffer[\"pupils\"], **tmp}"
   ]
  },
  {
   "cell_type": "code",
   "execution_count": 26,
   "metadata": {},
   "outputs": [],
   "source": [
    "# write the buffer out to a file\n",
    "with open('../data/flat/extended.json', 'w') as file:\n",
    "    json.dump(buffer, file)"
   ]
  }
 ],
 "metadata": {
  "kernelspec": {
   "display_name": "python-6nDLZIqT",
   "language": "python",
   "name": "python3"
  },
  "language_info": {
   "codemirror_mode": {
    "name": "ipython",
    "version": 3
   },
   "file_extension": ".py",
   "mimetype": "text/x-python",
   "name": "python",
   "nbconvert_exporter": "python",
   "pygments_lexer": "ipython3",
   "version": "3.9.15"
  },
  "orig_nbformat": 4,
  "vscode": {
   "interpreter": {
    "hash": "cfc9f9f4b8bae7ff6b6e606b906c2e008a8fce0aac12728f5b1ad727cd966224"
   }
  }
 },
 "nbformat": 4,
 "nbformat_minor": 2
}
