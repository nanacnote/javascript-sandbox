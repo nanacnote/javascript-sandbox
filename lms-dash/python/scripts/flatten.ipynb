{
 "cells": [
  {
   "attachments": {},
   "cell_type": "markdown",
   "metadata": {},
   "source": [
    "### Flattens provided dummy data into a single file"
   ]
  },
  {
   "cell_type": "code",
   "execution_count": 67,
   "metadata": {},
   "outputs": [],
   "source": [
    "# pull in dependencies\n",
    "import os\n",
    "import json\n",
    "from genson import SchemaBuilder\n",
    "\n",
    "buffer = dict(pupils=dict())\n",
    "builder = SchemaBuilder()"
   ]
  },
  {
   "cell_type": "code",
   "execution_count": 68,
   "metadata": {},
   "outputs": [],
   "source": [
    "# read assessment data into buffer\n",
    "with open('../data/raw/assessment_data.json', 'r') as file:\n",
    "    buffer[\"assessment_data\"] = json.load(file)"
   ]
  },
  {
   "cell_type": "code",
   "execution_count": 69,
   "metadata": {},
   "outputs": [
    {
     "data": {
      "text/plain": [
       "['sarah_jane', 'amanda_jones', 'ralph_thompson']"
      ]
     },
     "execution_count": 69,
     "metadata": {},
     "output_type": "execute_result"
    }
   ],
   "source": [
    "# extract a list of all pupil names from original raw json files\n",
    "pupils_dir_names = [f.name for f in os.scandir('../data/raw') if f.is_dir()]\n",
    "pupils_dir_names"
   ]
  },
  {
   "cell_type": "code",
   "execution_count": 70,
   "metadata": {},
   "outputs": [],
   "source": [
    "# loop over all pupils and extract data into buffer\n",
    "is_schema_generated = False\n",
    "for pupils_name in pupils_dir_names:\n",
    "    dir_path = '../data/raw/' + pupils_name\n",
    "    buffer['pupils'][pupils_name] = dict()\n",
    "    for file in os.listdir(dir_path):\n",
    "        if file.endswith('.json'):\n",
    "            file_path = os.path.join(dir_path, file)\n",
    "            with open(file_path, 'r') as f:\n",
    "                filename, file_ext = os.path.splitext(file)\n",
    "                buffer['pupils'][pupils_name][filename] = json.load(f)\n",
    "    if not is_schema_generated:\n",
    "        builder.add_object(buffer['pupils'][pupils_name])\n",
    "        is_schema_generated = True"
   ]
  },
  {
   "cell_type": "code",
   "execution_count": 71,
   "metadata": {},
   "outputs": [],
   "source": [
    "# write the buffer out to a file\n",
    "with open('../data/flat/original.json', 'w') as file:\n",
    "    json.dump(buffer, file)"
   ]
  },
  {
   "cell_type": "code",
   "execution_count": 72,
   "metadata": {},
   "outputs": [],
   "source": [
    "# write the schema out to a file\n",
    "with open('../data/schema/pupil.json', 'w') as file:\n",
    "    json.dump(builder.to_schema(), file)"
   ]
  }
 ],
 "metadata": {
  "kernelspec": {
   "display_name": "python-6nDLZIqT",
   "language": "python",
   "name": "python3"
  },
  "language_info": {
   "codemirror_mode": {
    "name": "ipython",
    "version": 3
   },
   "file_extension": ".py",
   "mimetype": "text/x-python",
   "name": "python",
   "nbconvert_exporter": "python",
   "pygments_lexer": "ipython3",
   "version": "3.9.15"
  },
  "orig_nbformat": 4,
  "vscode": {
   "interpreter": {
    "hash": "cfc9f9f4b8bae7ff6b6e606b906c2e008a8fce0aac12728f5b1ad727cd966224"
   }
  }
 },
 "nbformat": 4,
 "nbformat_minor": 2
}
